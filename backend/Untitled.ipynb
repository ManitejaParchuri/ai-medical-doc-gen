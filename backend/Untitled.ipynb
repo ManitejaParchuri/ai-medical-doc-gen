{
 "cells": [
  {
   "cell_type": "code",
   "execution_count": 1,
   "id": "b8b64952-5a37-4e24-a4da-03d650f98820",
   "metadata": {},
   "outputs": [
    {
     "name": "stdout",
     "output_type": "stream",
     "text": [
      "Sample Prediction: ['positive']\n",
      "Current Working Directory: D:\\thesis\\backend\n",
      "Model and vectorizer saved successfully!\n"
     ]
    }
   ],
   "source": [
    "from sklearn.feature_extraction.text import CountVectorizer\n",
    "from sklearn.naive_bayes import MultinomialNB\n",
    "import pickle\n",
    "import os\n",
    "\n",
    "# Sample training data for sentiment analysis\n",
    "texts = [\n",
    "    \"Patient is recovering well\", \n",
    "    \"Teeth show signs of decay\", \n",
    "    \"High fever detected\", \n",
    "    \"Gum inflammation observed\",\n",
    "    \"Patient is feeling good\", \n",
    "    \"Cavity treatment successful\"\n",
    "]\n",
    "\n",
    "labels = [\"positive\", \"negative\", \"negative\", \"negative\", \"positive\", \"positive\"]\n",
    "\n",
    "# Vectorize the text data\n",
    "vectorizer = CountVectorizer()\n",
    "X = vectorizer.fit_transform(texts)\n",
    "\n",
    "# Train a Naive Bayes model\n",
    "model = MultinomialNB()\n",
    "model.fit(X, labels)\n",
    "\n",
    "# Test the model with a sample input\n",
    "sample_input = [\"Patient feels much better after treatment\"]\n",
    "sample_vector = vectorizer.transform(sample_input)\n",
    "print(\"Sample Prediction:\", model.predict(sample_vector))\n",
    "\n",
    "# Ensure files are saved in the backend directory\n",
    "output_path = os.getcwd()  # Should be D:\\thesis\\backend\n",
    "print(\"Current Working Directory:\", output_path)\n",
    "\n",
    "# Save the model and vectorizer as .pkl files\n",
    "with open(\"model.pkl\", \"wb\") as model_file:\n",
    "    pickle.dump(model, model_file)\n",
    "\n",
    "with open(\"vectorizer.pkl\", \"wb\") as vectorizer_file:\n",
    "    pickle.dump(vectorizer, vectorizer_file)\n",
    "\n",
    "print(\"Model and vectorizer saved successfully!\")\n"
   ]
  },
  {
   "cell_type": "code",
   "execution_count": null,
   "id": "4b7ae9ca-b9d6-41a5-afdd-3e9d39eac8ec",
   "metadata": {},
   "outputs": [],
   "source": []
  }
 ],
 "metadata": {
  "kernelspec": {
   "display_name": "Python 3 (ipykernel)",
   "language": "python",
   "name": "python3"
  },
  "language_info": {
   "codemirror_mode": {
    "name": "ipython",
    "version": 3
   },
   "file_extension": ".py",
   "mimetype": "text/x-python",
   "name": "python",
   "nbconvert_exporter": "python",
   "pygments_lexer": "ipython3",
   "version": "3.12.6"
  }
 },
 "nbformat": 4,
 "nbformat_minor": 5
}
